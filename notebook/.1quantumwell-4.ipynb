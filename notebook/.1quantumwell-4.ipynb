{
 "cells": [
  {
   "cell_type": "markdown",
   "metadata": {},
   "source": [
    "# A one dimensional quantum well \n",
    "\n",
    "[Go back to index](./index.ipynb)\n",
    "\n",
    "In this widget, one can choice the height and width of a quantum well. The widget gives the eigenfunctions and eigenvalues from the numerical solution. "
   ]
  },
  {
   "cell_type": "code",
   "execution_count": 13,
   "metadata": {},
   "outputs": [],
   "source": [
    "%matplotlib widget\n",
    "from pylab import axes, setp, axis, xlabel, ylabel, title, plot, subplot, draw, connect, show\n",
    "from numpy import linspace, sqrt, ones, arange, diag, argsort, zeros\n",
    "from scipy.linalg import eig, eigh_tridiagonal\n",
    "import matplotlib.pyplot as plt\n",
    "\n",
    "\n",
    "def singlewell_potential(x, x0, width, depth):\n",
    "    x1 = zeros(len(x))\n",
    "    for i in range(len(x)):\n",
    "        if x[i] > x0 - width/2.0 and x[i] < x0 + width/2.0:\n",
    "            x1[i] = depth\n",
    "    return x1\n",
    "    \n",
    "\n",
    "def diagonalisierung(hquer, L, N, pot=singlewell_potential, x0 = 0.0, width = 0.1, depth = 0.0):\n",
    "    \"\"\"Calculated sorted eigenvalues and eigenfunctions. \n",
    "\n",
    "       Input:\n",
    "         hquer: Planck constant\n",
    "         L: set viewed interval [-L,L] \n",
    "         N: number of grid points i.e. size of the matrix \n",
    "         pot: potential function of the form pot\n",
    "         x0: center of the quantum well\n",
    "         width: the width of the quantum well\n",
    "         depth: the depth of the quantum well\n",
    "       Ausgabe:\n",
    "         ew: sortierte Eigenwerte (Array der Laenge N)\n",
    "         ef: entsprechend sortierte Eigenvektoren, ef[:,i] (Groesse N*N)\n",
    "         x: Ortsgitter (Array der Laenge N)\n",
    "         dx: Ortsgitterabstand\n",
    "         V: Potential an den Stellen x (Array der Laenge N)\n",
    "    \"\"\"\n",
    "    x = linspace(-L, L, N+2)[1:N+1]                 # grid points\n",
    "    dx = x[1] - x[0]                                # grid spacing\n",
    "    V = pot(x, x0, width, depth)\n",
    "    z = hquer**2 /2.0/dx**2                         # second diagonals\n",
    "\n",
    "    ew, ef = eigh_tridiagonal(V+2.0*z, -z*ones(N-1))\n",
    "    ew = ew.real                                    # real part of the eigenvalues\n",
    "    ind = argsort(ew)                               # Indizes f. sort. Array\n",
    "    ew = ew[ind]                                    # Sortieren der ew nach ind\n",
    "    ef = ef[:, ind]                                 # Sortieren der Spalten von\n",
    "                                                    #  ef nach ind\n",
    "    ef = ef/sqrt(dx)                                # richtige Normierung \n",
    "    return ew, ef, x, dx, V\n",
    "\n",
    "\n",
    "def plot_eigenfunktionen(ax, ew, ef, x, V, width=1, Emax=0.1, fak=0.009):\n",
    "    \"\"\"Plot der niedrigsten Eigenfunktionen 'ef' im Potential 'V(x)'\n",
    "       auf Hoehe der Eigenwerte 'ew' in den Plotbereich 'ax'.\n",
    "       \n",
    "       Der optionale Parameter 'width' (mit Defaultwert 1)\n",
    "       gibt die Linienstaerke beim Plot der Eigenfunktionen\n",
    "       an. 'width' kann auch ein Array von Linienstaerken sein.\n",
    "       'Emax' (mit Default-Wert V_0/10) legt die Energieobergrenze\n",
    "       fuer den Plot fest.\n",
    "       'fak' ist ein Skalierungsfaktor fuer die graphische Darstellung\n",
    "       der Eigenfunktionen.\n",
    "    \"\"\"\n",
    "    \n",
    "    ax[0].plot(x, V, c='r')\n",
    "    ax[1].plot(x, V, c='k', linewidth=1.0)\n",
    "    \n",
    "    ax[0].set_xlim([min(x), max(x)])\n",
    "    ax[0].set_ylim([min(V), Emax])\n",
    "    \n",
    "    ax[0].set_xlabel(r'$x/a$', fontsize = 10)\n",
    "    ax[0].set_ylabel(r'$V(x)/V_0\\ \\rm{, Eigenfunctions\\ with\\ Eigenvalues}$', fontsize = 10)\n",
    "    \n",
    "    ax[1].set_xlim([min(x), max(x)])\n",
    "    ax[1].set_ylim([min(V), Emax])\n",
    "    \n",
    "    ax[1].set_xlabel(r'$x/a$', fontsize = 10)\n",
    "    ax[1].set_ylabel(r'$V(x)/V_0\\ \\rm{, Eigenfunctions\\ with\\ Eigenvalues}$', fontsize = 10)\n",
    "      \n",
    "    indmax = sum(ew<=Emax)                       \n",
    "    colors = ['b', 'g', 'r', 'c', 'm', 'y']      \n",
    "    if not hasattr(width, \"__iter__\"):           \n",
    "        width = width*ones(indmax)               \n",
    "    for i in arange(indmax):                     \n",
    "        ax[1].plot(x, fak*abs(ef[:, i])**2+ew[i], linewidth=width[i]+.1, color=colors[i%len(colors)])\n",
    "\n"
   ]
  },
  {
   "cell_type": "code",
   "execution_count": 14,
   "metadata": {},
   "outputs": [
    {
     "data": {
      "application/vnd.jupyter.widget-view+json": {
       "model_id": "e2cbe29568664d648ac20fd315c5a49f",
       "version_major": 2,
       "version_minor": 0
      },
      "text/plain": [
       "Canvas(toolbar=Toolbar(toolitems=[('Home', 'Reset original view', 'home', 'home'), ('Back', 'Back to previous …"
      ]
     },
     "metadata": {},
     "output_type": "display_data"
    },
    {
     "data": {
      "application/vnd.jupyter.widget-view+json": {
       "model_id": "e1fcc9f2ff2648e3a12b3a5090dfb493",
       "version_major": 2,
       "version_minor": 0
      },
      "text/plain": [
       "HBox(children=(FloatSlider(value=0.1, description='Width: ', max=1.0, min=0.1), FloatSlider(value=0.0, descrip…"
      ]
     },
     "metadata": {},
     "output_type": "display_data"
    }
   ],
   "source": [
    "from ipywidgets import FloatSlider, jslink, VBox, HBox\n",
    "\n",
    "mu = 0.06                                            # Potentialparameter\n",
    "L = 1.5                                              # x-Bereich ist [-L,L]\n",
    "N = 200                                              # Zahl der Gitterpunkte\n",
    "hquer = 0.06                                         # effektives hquer\n",
    "sigma_x = 0.1                                        # Breite Gauss\n",
    "zeiten = linspace(0.0, 10.0, 400)                    # Zeiten f. Zeitentw.\n",
    "\n",
    "\n",
    "swidth = FloatSlider(value = 0.1, min = 0.1, max = 1.0, description = 'Width: ')\n",
    "sdepth = FloatSlider(value = 0.0, min = -5.0, max = 5.0, description = 'Depth: ')\n",
    "sxpos = FloatSlider(value = 0.0, min = -L, max = L, description = r'$x_o$: ')\n",
    "\n",
    "width = 0.1\n",
    "depth = 0.0\n",
    "\n",
    "ew, ef, x, dx, V = diagonalisierung(hquer, L, N, x0 = 0.0, width = width, depth = depth)\n",
    "    \n",
    "fig, ax = plt.subplots(2, 1, figsize=(30, 30))\n",
    "fig.canvas.header_visible = False\n",
    "fig.canvas.layout.height = \"1100px\"\n",
    "\n",
    "fig.suptitle('Numerial Solution of One Dimension Schroedinger Equation', fontsize = 10)\n",
    "plot_eigenfunktionen(ax, ew, ef, x, V)\n",
    "\n",
    "\n",
    "def on_width_change(change):\n",
    "    for i in range(len(ax[0].lines)):\n",
    "        ax[0].lines.pop(0)\n",
    "    for i in range(len(ax[1].lines)):\n",
    "        ax[1].lines.pop(0)\n",
    "    ew, ef, x, dx, V = diagonalisierung(hquer, L, N, x0 = sxpos.value, width = swidth.value, depth = sdepth.value)\n",
    "    plot_eigenfunktionen(ax, ew, ef, x, V)\n",
    "\n",
    "def on_depth_change(change):\n",
    "    for i in range(len(ax[0].lines)):\n",
    "        ax[0].lines.pop(0)\n",
    "    for i in range(len(ax[1].lines)):\n",
    "        ax[1].lines.pop(0)\n",
    "    ew, ef, x, dx, V = diagonalisierung(hquer, L, N, x0 = 0.0, width = swidth.value, depth = sdepth.value)\n",
    "    plot_eigenfunktionen(ax, ew, ef, x, V)\n",
    "    \n",
    "def on_xpos_change(change):\n",
    "    for i in range(len(ax[0].lines)):\n",
    "        ax[0].lines.pop(0)\n",
    "    for i in range(len(ax[1].lines)):\n",
    "        ax[1].lines.pop(0)\n",
    "    ew, ef, x, dx, V = diagonalisierung(hquer, L, N, x0 = sxpos.value, width = swidth.value, depth = sdepth.value)\n",
    "    plot_eigenfunktionen(ax, ew, ef, x, V)\n",
    "    \n",
    "swidth.observe(on_width_change, names = 'value')\n",
    "sdepth.observe(on_depth_change, names = 'value')\n",
    "sxpos.observe(on_xpos_change, names = 'value')\n",
    "\n",
    "display(HBox([swidth, sdepth, sxpos]))"
   ]
  },
  {
   "cell_type": "markdown",
   "metadata": {},
   "source": [
    "This work has been done with the support of the EPFL Open Science Fund [OSSCAR](http://www.osscar.org).\n",
    "\n",
    "<img src=\"http://www.osscar.org/wp-content/uploads/2019/03/OSSCAR-logo.png\" style=\"height:40px; width: 200px\"/>"
   ]
  }
 ],
 "metadata": {
  "kernelspec": {
   "display_name": "Python 3",
   "language": "python",
   "name": "python3"
  },
  "language_info": {
   "codemirror_mode": {
    "name": "ipython",
    "version": 3
   },
   "file_extension": ".py",
   "mimetype": "text/x-python",
   "name": "python",
   "nbconvert_exporter": "python",
   "pygments_lexer": "ipython3",
   "version": "3.7.6"
  }
 },
 "nbformat": 4,
 "nbformat_minor": 4
}
