{
 "cells": [
  {
   "cell_type": "markdown",
   "metadata": {},
   "source": [
    "# A one dimensional quantum well \n",
    "\n",
    "[Go back to index](./index.ipynb)\n",
    "\n",
    "The widget displays interactively the eigenfunctions (plotted at the height of the corresponding eigenvalues) for a single quantum well, as obtained from the numerical solution. "
   ]
  },
  {
   "cell_type": "code",
   "execution_count": 15,
   "metadata": {},
   "outputs": [],
   "source": [
    "%matplotlib widget\n",
    "from pylab import axes, setp, axis, xlabel, ylabel, title, plot, subplot, draw, connect, show\n",
    "from numpy import linspace, sqrt, ones, arange, diag, argsort, zeros\n",
    "from scipy.linalg import eig, eigh_tridiagonal\n",
    "import matplotlib.pyplot as plt\n",
    "\n",
    "colors = ['#9e0142','#d53e4f','#f46d43','#fdae61','#fee08b','#ffffbf','#e6f598','#abdda4','#66c2a5','#3288bd','#5e4fa2']    \n",
    "colors = colors + colors + colors\n",
    "\n",
    "def singlewell_potential(x, width, depth):\n",
    "    x1 = zeros(len(x))\n",
    "    for i in range(len(x)):\n",
    "        if x[i] > - width/2.0 and x[i] < width/2.0:\n",
    "            x1[i] = depth\n",
    "    return x1\n",
    "    \n",
    "\n",
    "def diagonalisierung(hquer, L, N, pot=singlewell_potential, width = 0.1, depth = 0.0):\n",
    "    \"\"\"Calculated sorted eigenvalues and eigenfunctions. \n",
    "\n",
    "       Input:\n",
    "         hquer: Planck constant\n",
    "         L: set viewed interval [-L,L] \n",
    "         N: number of grid points i.e. size of the matrix \n",
    "         pot: potential function of the form pot\n",
    "         x0: center of the quantum well\n",
    "         width: the width of the quantum well\n",
    "         depth: the depth of the quantum well\n",
    "       Ausgabe:\n",
    "         ew: sortierte Eigenwerte (Array der Laenge N)\n",
    "         ef: entsprechend sortierte Eigenvektoren, ef[:,i] (Groesse N*N)\n",
    "         x: Ortsgitter (Array der Laenge N)\n",
    "         dx: Ortsgitterabstand\n",
    "         V: Potential an den Stellen x (Array der Laenge N)\n",
    "    \"\"\"\n",
    "    x = linspace(-L, L, N+2)[1:N+1]                 # grid points\n",
    "    dx = x[1] - x[0]                                # grid spacing\n",
    "    V = pot(x, width, depth)\n",
    "    z = hquer**2 /2.0/dx**2                         # second diagonals\n",
    "\n",
    "    ew, ef = eigh_tridiagonal(V+2.0*z, -z*ones(N-1))\n",
    "    ew = ew.real                                    # real part of the eigenvalues\n",
    "    ind = argsort(ew)                               # Indizes f. sort. Array\n",
    "    ew = ew[ind]                                    # Sortieren der ew nach ind\n",
    "    ef = ef[:, ind]                                 # Sortieren der Spalten von\n",
    "                                                    #  ef nach ind\n",
    "    ef = ef/sqrt(dx)                                # richtige Normierung \n",
    "    return ew, ef, x, dx, V\n",
    "\n",
    "\n",
    "def plot_eigenfunktionen(ax, ew, ef, x, V, width=1, Emax=0.1, fak= 5.0):\n",
    "    \"\"\"Plot der niedrigsten Eigenfunktionen 'ef' im Potential 'V(x)'\n",
    "       auf Hoehe der Eigenwerte 'ew' in den Plotbereich 'ax'.\n",
    "       \n",
    "       Der optionale Parameter 'width' (mit Defaultwert 1)\n",
    "       gibt die Linienstaerke beim Plot der Eigenfunktionen\n",
    "       an. 'width' kann auch ein Array von Linienstaerken sein.\n",
    "       'Emax' (mit Default-Wert V_0/10) legt die Energieobergrenze\n",
    "       fuer den Plot fest.\n",
    "       'fak' ist ein Skalierungsfaktor fuer die graphische Darstellung\n",
    "       der Eigenfunktionen.\n",
    "    \"\"\"\n",
    "    \n",
    "    fak = fak/100.0;\n",
    "    \n",
    "    ax[1].plot(x, V, c='r', linewidth=1.5)\n",
    "    ax[0].plot(x, V, c='r', linewidth=1.5)\n",
    "    \n",
    "    ax[1].set_xlim([min(x), max(x)])\n",
    "    ax[1].set_ylim([min(V)-0.05, Emax])\n",
    "    \n",
    "    ax[1].set_xlabel(r'$x/a$', fontsize = 10)\n",
    "    ax[1].set_ylabel(r'$V(x)/V_0\\ \\rm{, Eigenfunctions\\ with\\ Eigenvalues}$', fontsize = 8)\n",
    "    \n",
    "    ax[0].set_xlim([min(x), max(x)])\n",
    "    ax[0].set_ylim([min(V)-0.05, Emax])\n",
    "    \n",
    "    ax[0].set_xlabel(r'$x/a$', fontsize = 10)\n",
    "    ax[0].set_ylabel(r'$V(x)/V_0\\ \\rm{, Eigenfunctions\\ with\\ Eigenvalues}$', fontsize = 8)\n",
    "      \n",
    "    indmax = sum(ew<=Emax)                       \n",
    "    if not hasattr(width, \"__iter__\"):           \n",
    "        width = width*ones(indmax)               \n",
    "    for i in arange(indmax):                     \n",
    "        ax[0].plot(x, fak*abs(ef[:, i])**2+ew[i], linewidth=width[i]+.1, color=colors[i%len(colors)])\n"
   ]
  },
  {
   "cell_type": "code",
   "execution_count": 15,
   "metadata": {},
   "outputs": [
    {
     "data": {
      "application/vnd.jupyter.widget-view+json": {
       "model_id": "9af3d36e1f174def9ee6b6ad16df983c",
       "version_major": 2,
       "version_minor": 0
      },
      "text/plain": [
       "Canvas(toolbar=Toolbar(toolitems=[('Home', 'Reset original view', 'home', 'home'), ('Back', 'Back to previous …"
      ]
     },
     "metadata": {},
     "output_type": "display_data"
    },
    {
     "data": {
      "application/vnd.jupyter.widget-view+json": {
       "model_id": "f53c9e89209549169f23c34a78620b6c",
       "version_major": 2,
       "version_minor": 0
      },
      "text/plain": [
       "HBox(children=(FloatSlider(value=1.2, description='Width: ', max=2.0, min=0.1), FloatSlider(value=-0.2, descri…"
      ]
     },
     "metadata": {},
     "output_type": "display_data"
    }
   ],
   "source": [
    "from ipywidgets import FloatSlider, jslink, VBox, HBox\n",
    "\n",
    "mu = 0.06                                            # Potentialparameter\n",
    "L = 1.5                                              # x-Bereich ist [-L,L]\n",
    "N = 200                                              # Zahl der Gitterpunkte\n",
    "hquer = 0.06                                         # effektives hquer\n",
    "sigma_x = 0.1                                        # Breite Gauss\n",
    "zeiten = linspace(0.0, 10.0, 400)                    # Zeiten f. Zeitentw.\n",
    "\n",
    "\n",
    "swidth = FloatSlider(value = 1.2, min = 0.1, max = 2.0, description = 'Width: ')\n",
    "sdepth = FloatSlider(value = -0.2, min = -1.0, max = 0.0, step = 0.05, description = 'Depth: ')\n",
    "sfak = FloatSlider(value = 5, min = 1.0, max = 10.0, step = 1.0, description = r'Zoom factor: ')\n",
    "\n",
    "width = 1.2\n",
    "depth = -0.2\n",
    "fak = 5.0\n",
    "\n",
    "ew, ef, x, dx, V = diagonalisierung(hquer, L, N, width = width, depth = depth)\n",
    "    \n",
    "fig, ax = plt.subplots(2, 1, figsize=(8,6))\n",
    "fig.canvas.header_visible = False\n",
    "#fig.canvas.layout.height = \"800px\"\n",
    "\n",
    "fig.suptitle('Numerial Solution of One Dimension Schroedinger Equation', fontsize = 10)\n",
    "plot_eigenfunktionen(ax, ew, ef, x, V)\n",
    "\n",
    "\n",
    "def on_width_change(change):\n",
    "    for i in range(len(ax[0].lines)):\n",
    "        ax[0].lines.pop(0)\n",
    "    for i in range(len(ax[1].lines)):\n",
    "        ax[1].lines.pop(0)\n",
    "    ew, ef, x, dx, V = diagonalisierung(hquer, L, N, width = swidth.value, depth = sdepth.value)\n",
    "    plot_eigenfunktionen(ax, ew, ef, x, V, fak = sfak.value)\n",
    "\n",
    "def on_depth_change(change):\n",
    "    for i in range(len(ax[0].lines)):\n",
    "        ax[0].lines.pop(0)\n",
    "    for i in range(len(ax[1].lines)):\n",
    "        ax[1].lines.pop(0)\n",
    "    ew, ef, x, dx, V = diagonalisierung(hquer, L, N, width = swidth.value, depth = sdepth.value)\n",
    "    plot_eigenfunktionen(ax, ew, ef, x, V, fak = sfak.value)\n",
    "    \n",
    "def on_xfak_change(change):\n",
    "    for i in range(len(ax[0].lines)):\n",
    "        ax[0].lines.pop(0)\n",
    "    for i in range(len(ax[1].lines)):\n",
    "        ax[1].lines.pop(0)\n",
    "    plot_eigenfunktionen(ax, ew, ef, x, V, fak = sfak.value)\n",
    "    \n",
    "swidth.observe(on_width_change, names = 'value')\n",
    "sdepth.observe(on_depth_change, names = 'value')\n",
    "sfak.observe(on_xfak_change, names = 'value')\n",
    "\n",
    "display(HBox([swidth, sdepth, sfak]))"
   ]
  },
  {
   "cell_type": "markdown",
   "metadata": {},
   "source": [
    "This work has been done with the support of the EPFL Open Science Fund [OSSCAR](http://www.osscar.org).\n",
    "\n",
    "<img src=\"http://www.osscar.org/wp-content/uploads/2019/03/OSSCAR-logo.png\" style=\"height:40px; width: 200px\"/>"
   ]
  }
 ],
 "metadata": {
  "kernelspec": {
   "display_name": "Python 3",
   "language": "python",
   "name": "python3"
  },
  "language_info": {
   "codemirror_mode": {
    "name": "ipython",
    "version": 3
   },
   "file_extension": ".py",
   "mimetype": "text/x-python",
   "name": "python",
   "nbconvert_exporter": "python",
   "pygments_lexer": "ipython3",
   "version": "3.8.2"
  }
 },
 "nbformat": 4,
 "nbformat_minor": 4
}
